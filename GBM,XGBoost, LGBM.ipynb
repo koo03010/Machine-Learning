{
 "cells": [
  {
   "cell_type": "code",
   "execution_count": 1,
   "metadata": {},
   "outputs": [],
   "source": [
    "import pandas as pd\n",
    "url = 'https://raw.githubusercontent.com/PinkWink/ML_tutorial/master/dataset/HAR_dataset/features.txt'\n",
    "fearture_name_df = pd.read_csv(url, sep='\\s+', header=None, names=['column_index','columns_name'])\n",
    "fearture_name = fearture_name_df.iloc[:,1].values.tolist()\n",
    "\n",
    "X_train_url = 'https://raw.githubusercontent.com/PinkWink/ML_tutorial/master/dataset/HAR_dataset/train/X_train.txt'\n",
    "X_test_url = 'https://raw.githubusercontent.com/PinkWink/ML_tutorial/master/dataset/HAR_dataset/test/X_test.txt'\n",
    "\n",
    "X_train = pd.read_csv(X_train_url, sep='\\s+',header=None)\n",
    "X_test = pd.read_csv(X_test_url, sep='\\s+',header=None)"
   ]
  },
  {
   "cell_type": "code",
   "execution_count": 2,
   "metadata": {},
   "outputs": [],
   "source": [
    "y_train_url = 'https://raw.githubusercontent.com/PinkWink/ML_tutorial/master/dataset/HAR_dataset/train/y_train.txt'\n",
    "y_test_url = 'https://raw.githubusercontent.com/PinkWink/ML_tutorial/master/dataset/HAR_dataset/test/y_test.txt'\n",
    "\n",
    "y_train = pd.read_csv(y_train_url, sep='\\s+',header=None, names=['action'])\n",
    "y_test = pd.read_csv(y_test_url, sep='\\s+',header=None, names=['action'])"
   ]
  },
  {
   "cell_type": "code",
   "execution_count": 3,
   "metadata": {},
   "outputs": [],
   "source": [
    "X_train.columns = fearture_name\n",
    "X_test.columns = fearture_name"
   ]
  },
  {
   "cell_type": "code",
   "execution_count": 4,
   "metadata": {},
   "outputs": [],
   "source": [
    "from sklearn.ensemble import GradientBoostingClassifier\n",
    "from sklearn.metrics import accuracy_score\n",
    "import time\n",
    "import warnings\n",
    "\n",
    "warnings.filterwarnings('ignore')"
   ]
  },
  {
   "cell_type": "code",
   "execution_count": 12,
   "metadata": {},
   "outputs": [],
   "source": [
    "start_time = time.time()\n",
    "\n",
    "gb_clf = GradientBoostingClassifier(random_state=1234)\n",
    "gb_clf.fit(X_train,y_train)\n",
    "gb_pred = gb_clf.predict(X_test)\n",
    "\n",
    "print('ACC : ', accuracy_score(y_test, gb_pred))\n",
    "print('Fit time : ', time.time() - start_time)"
   ]
  },
  {
   "cell_type": "code",
   "execution_count": null,
   "metadata": {},
   "outputs": [],
   "source": [
    "from sklearn.model_selection import GridSearchCV\n",
    "\n",
    "params = {\n",
    "    'n_estimators' : [100,500],\n",
    "    'learning_rate' : [0.05, 0.1]\n",
    "}\n",
    "\n",
    "start_time = time.time()\n",
    "grid = GridSearchCV(gb_clf, param_grid=params, cv=2, verbose=1, n_jobs=-1)\n",
    "grid.fit(X_train, y_train)\n",
    "\n",
    "print('Fit time : ', time.time() - start_time)"
   ]
  },
  {
   "cell_type": "code",
   "execution_count": 9,
   "metadata": {},
   "outputs": [
    {
     "ename": "ValueError",
     "evalue": "Invalid classes inferred from unique values of `y`.  Expected: [0 1 2 3 4 5], got [1 2 3 4 5 6]",
     "output_type": "error",
     "traceback": [
      "\u001b[1;31m---------------------------------------------------------------------------\u001b[0m",
      "\u001b[1;31mValueError\u001b[0m                                Traceback (most recent call last)",
      "Cell \u001b[1;32mIn[9], line 5\u001b[0m\n\u001b[0;32m      3\u001b[0m start_time \u001b[39m=\u001b[39m time\u001b[39m.\u001b[39mtime()\n\u001b[0;32m      4\u001b[0m xgb \u001b[39m=\u001b[39m XGBRFClassifier(n_estimators\u001b[39m=\u001b[39m\u001b[39m400\u001b[39m, learning_rate \u001b[39m=\u001b[39m \u001b[39m0.1\u001b[39m, max_depth\u001b[39m=\u001b[39m\u001b[39m3\u001b[39m)\n\u001b[1;32m----> 5\u001b[0m xgb\u001b[39m.\u001b[39;49mfit(X_train\u001b[39m.\u001b[39;49mvalues, y_train)\n\u001b[0;32m      7\u001b[0m \u001b[39mprint\u001b[39m(\u001b[39m'\u001b[39m\u001b[39mFit time : \u001b[39m\u001b[39m'\u001b[39m, time\u001b[39m.\u001b[39mtime() \u001b[39m-\u001b[39m start_time)\n",
      "File \u001b[1;32mc:\\Users\\user\\miniconda3\\envs\\ds_study\\lib\\site-packages\\xgboost\\core.py:620\u001b[0m, in \u001b[0;36mrequire_keyword_args.<locals>.throw_if.<locals>.inner_f\u001b[1;34m(*args, **kwargs)\u001b[0m\n\u001b[0;32m    618\u001b[0m \u001b[39mfor\u001b[39;00m k, arg \u001b[39min\u001b[39;00m \u001b[39mzip\u001b[39m(sig\u001b[39m.\u001b[39mparameters, args):\n\u001b[0;32m    619\u001b[0m     kwargs[k] \u001b[39m=\u001b[39m arg\n\u001b[1;32m--> 620\u001b[0m \u001b[39mreturn\u001b[39;00m func(\u001b[39m*\u001b[39;49m\u001b[39m*\u001b[39;49mkwargs)\n",
      "File \u001b[1;32mc:\\Users\\user\\miniconda3\\envs\\ds_study\\lib\\site-packages\\xgboost\\sklearn.py:1677\u001b[0m, in \u001b[0;36mXGBRFClassifier.fit\u001b[1;34m(self, X, y, sample_weight, base_margin, eval_set, eval_metric, early_stopping_rounds, verbose, xgb_model, sample_weight_eval_set, base_margin_eval_set, feature_weights, callbacks)\u001b[0m\n\u001b[0;32m   1675\u001b[0m args \u001b[39m=\u001b[39m {k: v \u001b[39mfor\u001b[39;00m k, v \u001b[39min\u001b[39;00m \u001b[39mlocals\u001b[39m()\u001b[39m.\u001b[39mitems() \u001b[39mif\u001b[39;00m k \u001b[39mnot\u001b[39;00m \u001b[39min\u001b[39;00m (\u001b[39m\"\u001b[39m\u001b[39mself\u001b[39m\u001b[39m\"\u001b[39m, \u001b[39m\"\u001b[39m\u001b[39m__class__\u001b[39m\u001b[39m\"\u001b[39m)}\n\u001b[0;32m   1676\u001b[0m _check_rf_callback(early_stopping_rounds, callbacks)\n\u001b[1;32m-> 1677\u001b[0m \u001b[39msuper\u001b[39;49m()\u001b[39m.\u001b[39;49mfit(\u001b[39m*\u001b[39;49m\u001b[39m*\u001b[39;49margs)\n\u001b[0;32m   1678\u001b[0m \u001b[39mreturn\u001b[39;00m \u001b[39mself\u001b[39m\n",
      "File \u001b[1;32mc:\\Users\\user\\miniconda3\\envs\\ds_study\\lib\\site-packages\\xgboost\\core.py:620\u001b[0m, in \u001b[0;36mrequire_keyword_args.<locals>.throw_if.<locals>.inner_f\u001b[1;34m(*args, **kwargs)\u001b[0m\n\u001b[0;32m    618\u001b[0m \u001b[39mfor\u001b[39;00m k, arg \u001b[39min\u001b[39;00m \u001b[39mzip\u001b[39m(sig\u001b[39m.\u001b[39mparameters, args):\n\u001b[0;32m    619\u001b[0m     kwargs[k] \u001b[39m=\u001b[39m arg\n\u001b[1;32m--> 620\u001b[0m \u001b[39mreturn\u001b[39;00m func(\u001b[39m*\u001b[39;49m\u001b[39m*\u001b[39;49mkwargs)\n",
      "File \u001b[1;32mc:\\Users\\user\\miniconda3\\envs\\ds_study\\lib\\site-packages\\xgboost\\sklearn.py:1440\u001b[0m, in \u001b[0;36mXGBClassifier.fit\u001b[1;34m(self, X, y, sample_weight, base_margin, eval_set, eval_metric, early_stopping_rounds, verbose, xgb_model, sample_weight_eval_set, base_margin_eval_set, feature_weights, callbacks)\u001b[0m\n\u001b[0;32m   1435\u001b[0m     expected_classes \u001b[39m=\u001b[39m np\u001b[39m.\u001b[39marange(\u001b[39mself\u001b[39m\u001b[39m.\u001b[39mn_classes_)\n\u001b[0;32m   1436\u001b[0m \u001b[39mif\u001b[39;00m (\n\u001b[0;32m   1437\u001b[0m     \u001b[39mself\u001b[39m\u001b[39m.\u001b[39mclasses_\u001b[39m.\u001b[39mshape \u001b[39m!=\u001b[39m expected_classes\u001b[39m.\u001b[39mshape\n\u001b[0;32m   1438\u001b[0m     \u001b[39mor\u001b[39;00m \u001b[39mnot\u001b[39;00m (\u001b[39mself\u001b[39m\u001b[39m.\u001b[39mclasses_ \u001b[39m==\u001b[39m expected_classes)\u001b[39m.\u001b[39mall()\n\u001b[0;32m   1439\u001b[0m ):\n\u001b[1;32m-> 1440\u001b[0m     \u001b[39mraise\u001b[39;00m \u001b[39mValueError\u001b[39;00m(\n\u001b[0;32m   1441\u001b[0m         \u001b[39mf\u001b[39m\u001b[39m\"\u001b[39m\u001b[39mInvalid classes inferred from unique values of `y`.  \u001b[39m\u001b[39m\"\u001b[39m\n\u001b[0;32m   1442\u001b[0m         \u001b[39mf\u001b[39m\u001b[39m\"\u001b[39m\u001b[39mExpected: \u001b[39m\u001b[39m{\u001b[39;00mexpected_classes\u001b[39m}\u001b[39;00m\u001b[39m, got \u001b[39m\u001b[39m{\u001b[39;00m\u001b[39mself\u001b[39m\u001b[39m.\u001b[39mclasses_\u001b[39m}\u001b[39;00m\u001b[39m\"\u001b[39m\n\u001b[0;32m   1443\u001b[0m     )\n\u001b[0;32m   1445\u001b[0m params \u001b[39m=\u001b[39m \u001b[39mself\u001b[39m\u001b[39m.\u001b[39mget_xgb_params()\n\u001b[0;32m   1447\u001b[0m \u001b[39mif\u001b[39;00m callable(\u001b[39mself\u001b[39m\u001b[39m.\u001b[39mobjective):\n",
      "\u001b[1;31mValueError\u001b[0m: Invalid classes inferred from unique values of `y`.  Expected: [0 1 2 3 4 5], got [1 2 3 4 5 6]"
     ]
    }
   ],
   "source": [
    "from xgboost import XGBRFClassifier\n",
    "\n",
    "start_time = time.time()\n",
    "xgb = XGBRFClassifier(n_estimators=400, learning_rate = 0.1, max_depth=3)\n",
    "xgb.fit(X_train.values, y_train)\n",
    "\n",
    "print('Fit time : ', time.time() - start_time)"
   ]
  },
  {
   "cell_type": "code",
   "execution_count": null,
   "metadata": {},
   "outputs": [
    {
     "ename": "NameError",
     "evalue": "name 'grid' is not defined",
     "output_type": "error",
     "traceback": [
      "\u001b[1;31m---------------------------------------------------------------------------\u001b[0m",
      "\u001b[1;31mNameError\u001b[0m                                 Traceback (most recent call last)",
      "Cell \u001b[1;32mIn[10], line 1\u001b[0m\n\u001b[1;32m----> 1\u001b[0m accuracy_score(y_test, grid\u001b[39m.\u001b[39mestimator\u001b[39m.\u001b[39mpredict(X_test\u001b[39m.\u001b[39mvalues))\n",
      "\u001b[1;31mNameError\u001b[0m: name 'grid' is not defined"
     ]
    }
   ],
   "source": [
    "accuracy_score(y_test, xgb.estimator.predict(X_test.values))"
   ]
  },
  {
   "cell_type": "code",
   "execution_count": 6,
   "metadata": {},
   "outputs": [
    {
     "ename": "NameError",
     "evalue": "name 'XGBRFClassifier' is not defined",
     "output_type": "error",
     "traceback": [
      "\u001b[1;31m---------------------------------------------------------------------------\u001b[0m",
      "\u001b[1;31mNameError\u001b[0m                                 Traceback (most recent call last)",
      "Cell \u001b[1;32mIn[6], line 4\u001b[0m\n\u001b[0;32m      1\u001b[0m evals \u001b[39m=\u001b[39m [(X_test\u001b[39m.\u001b[39mvalues, y_test)]\n\u001b[0;32m      3\u001b[0m start_time \u001b[39m=\u001b[39m time\u001b[39m.\u001b[39mtime()\n\u001b[1;32m----> 4\u001b[0m xgb \u001b[39m=\u001b[39m XGBRFClassifier(n_estimators\u001b[39m=\u001b[39m\u001b[39m400\u001b[39m, learning_rate \u001b[39m=\u001b[39m \u001b[39m0.1\u001b[39m, max_depth\u001b[39m=\u001b[39m\u001b[39m3\u001b[39m)\n\u001b[0;32m      5\u001b[0m xgb\u001b[39m.\u001b[39mfit(X_train\u001b[39m.\u001b[39mvalues, y_train,early_stopping_rounds\u001b[39m=\u001b[39m\u001b[39m10\u001b[39m, eval_set\u001b[39m=\u001b[39mevals)\n\u001b[0;32m      7\u001b[0m \u001b[39mprint\u001b[39m(\u001b[39m'\u001b[39m\u001b[39mFit time : \u001b[39m\u001b[39m'\u001b[39m, time\u001b[39m.\u001b[39mtime() \u001b[39m-\u001b[39m start_time)\n",
      "\u001b[1;31mNameError\u001b[0m: name 'XGBRFClassifier' is not defined"
     ]
    }
   ],
   "source": [
    "evals = [(X_test.values, y_test)]\n",
    "\n",
    "start_time = time.time()\n",
    "xgb = XGBRFClassifier(n_estimators=400, learning_rate = 0.1, max_depth=3)\n",
    "xgb.fit(X_train.values, y_train,early_stopping_rounds=10, eval_set=evals)\n",
    "\n",
    "print('Fit time : ', time.time() - start_time)"
   ]
  },
  {
   "cell_type": "code",
   "execution_count": null,
   "metadata": {},
   "outputs": [],
   "source": [
    "accuracy_score(y_test, xgb.predict(X_test.values))"
   ]
  },
  {
   "cell_type": "code",
   "execution_count": 7,
   "metadata": {},
   "outputs": [
    {
     "name": "stdout",
     "output_type": "stream",
     "text": [
      "[1]\tvalid_0's multi_logloss: 1.4404\n",
      "[2]\tvalid_0's multi_logloss: 1.21574\n",
      "[3]\tvalid_0's multi_logloss: 1.04795\n",
      "[4]\tvalid_0's multi_logloss: 0.913299\n",
      "[5]\tvalid_0's multi_logloss: 0.812686\n",
      "[6]\tvalid_0's multi_logloss: 0.725964\n",
      "[7]\tvalid_0's multi_logloss: 0.652995\n",
      "[8]\tvalid_0's multi_logloss: 0.591598\n",
      "[9]\tvalid_0's multi_logloss: 0.539383\n",
      "[10]\tvalid_0's multi_logloss: 0.499944\n",
      "[11]\tvalid_0's multi_logloss: 0.462273\n",
      "[12]\tvalid_0's multi_logloss: 0.429676\n",
      "[13]\tvalid_0's multi_logloss: 0.401908\n",
      "[14]\tvalid_0's multi_logloss: 0.377718\n",
      "[15]\tvalid_0's multi_logloss: 0.357455\n",
      "[16]\tvalid_0's multi_logloss: 0.339918\n",
      "[17]\tvalid_0's multi_logloss: 0.325799\n",
      "[18]\tvalid_0's multi_logloss: 0.314716\n",
      "[19]\tvalid_0's multi_logloss: 0.301914\n",
      "[20]\tvalid_0's multi_logloss: 0.292755\n",
      "[21]\tvalid_0's multi_logloss: 0.284754\n",
      "[22]\tvalid_0's multi_logloss: 0.276745\n",
      "[23]\tvalid_0's multi_logloss: 0.270387\n",
      "[24]\tvalid_0's multi_logloss: 0.265765\n",
      "[25]\tvalid_0's multi_logloss: 0.260089\n",
      "[26]\tvalid_0's multi_logloss: 0.256178\n",
      "[27]\tvalid_0's multi_logloss: 0.251189\n",
      "[28]\tvalid_0's multi_logloss: 0.248143\n",
      "[29]\tvalid_0's multi_logloss: 0.246272\n",
      "[30]\tvalid_0's multi_logloss: 0.24341\n",
      "[31]\tvalid_0's multi_logloss: 0.241248\n",
      "[32]\tvalid_0's multi_logloss: 0.24022\n",
      "[33]\tvalid_0's multi_logloss: 0.239652\n",
      "[34]\tvalid_0's multi_logloss: 0.238179\n",
      "[35]\tvalid_0's multi_logloss: 0.23699\n",
      "[36]\tvalid_0's multi_logloss: 0.2361\n",
      "[37]\tvalid_0's multi_logloss: 0.233816\n",
      "[38]\tvalid_0's multi_logloss: 0.233106\n",
      "[39]\tvalid_0's multi_logloss: 0.233421\n",
      "[40]\tvalid_0's multi_logloss: 0.23376\n",
      "[41]\tvalid_0's multi_logloss: 0.234338\n",
      "[42]\tvalid_0's multi_logloss: 0.234543\n",
      "[43]\tvalid_0's multi_logloss: 0.234652\n",
      "[44]\tvalid_0's multi_logloss: 0.233933\n",
      "[45]\tvalid_0's multi_logloss: 0.234656\n",
      "[46]\tvalid_0's multi_logloss: 0.234617\n",
      "[47]\tvalid_0's multi_logloss: 0.235371\n",
      "[48]\tvalid_0's multi_logloss: 0.236855\n",
      "[49]\tvalid_0's multi_logloss: 0.235197\n",
      "[50]\tvalid_0's multi_logloss: 0.236224\n",
      "[51]\tvalid_0's multi_logloss: 0.236696\n",
      "[52]\tvalid_0's multi_logloss: 0.237868\n",
      "[53]\tvalid_0's multi_logloss: 0.236315\n",
      "[54]\tvalid_0's multi_logloss: 0.239717\n",
      "[55]\tvalid_0's multi_logloss: 0.241621\n",
      "[56]\tvalid_0's multi_logloss: 0.243416\n",
      "[57]\tvalid_0's multi_logloss: 0.244416\n",
      "[58]\tvalid_0's multi_logloss: 0.245904\n",
      "Fit time :  14.298176288604736\n"
     ]
    }
   ],
   "source": [
    "from lightgbm import LGBMClassifier\n",
    "\n",
    "evals = [(X_test.values, y_test)]\n",
    "\n",
    "start_time = time.time()\n",
    "lgbm = LGBMClassifier(n_estimators=400)\n",
    "lgbm.fit(X_train.values, y_train,early_stopping_rounds=20, eval_set=evals)\n",
    "\n",
    "print('Fit time : ', time.time() - start_time)"
   ]
  },
  {
   "cell_type": "code",
   "execution_count": 9,
   "metadata": {},
   "outputs": [
    {
     "data": {
      "text/plain": [
       "0.9260264675941635"
      ]
     },
     "execution_count": 9,
     "metadata": {},
     "output_type": "execute_result"
    }
   ],
   "source": [
    "accuracy_score(y_test, lgbm.predict(X_test.values))"
   ]
  },
  {
   "cell_type": "code",
   "execution_count": null,
   "metadata": {},
   "outputs": [],
   "source": []
  }
 ],
 "metadata": {
  "kernelspec": {
   "display_name": "ds_study",
   "language": "python",
   "name": "python3"
  },
  "language_info": {
   "codemirror_mode": {
    "name": "ipython",
    "version": 3
   },
   "file_extension": ".py",
   "mimetype": "text/x-python",
   "name": "python",
   "nbconvert_exporter": "python",
   "pygments_lexer": "ipython3",
   "version": "3.8.15"
  },
  "orig_nbformat": 4,
  "vscode": {
   "interpreter": {
    "hash": "48b47ef07f8cbb10516d394180ce5ec5d2bd717fb884a02594f05e6ba15d1713"
   }
  }
 },
 "nbformat": 4,
 "nbformat_minor": 2
}
